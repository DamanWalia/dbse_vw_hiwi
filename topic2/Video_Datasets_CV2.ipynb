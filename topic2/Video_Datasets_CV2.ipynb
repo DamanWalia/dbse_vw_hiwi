{
  "nbformat": 4,
  "nbformat_minor": 0,
  "metadata": {
    "colab": {
      "name": "Video_Datasets_CV2.ipynb",
      "provenance": []
    },
    "kernelspec": {
      "name": "python3",
      "display_name": "Python 3"
    },
    "language_info": {
      "name": "python"
    }
  },
  "cells": [
    {
      "cell_type": "code",
      "metadata": {
        "id": "XM40LDuz4xzR"
      },
      "source": [
        "import cv2\n",
        "import numpy as np\n",
        "import glob\n",
        "import os\n",
        "from timeit import default_timer as timer"
      ],
      "execution_count": null,
      "outputs": []
    },
    {
      "cell_type": "code",
      "metadata": {
        "colab": {
          "base_uri": "https://localhost:8080/"
        },
        "id": "9T6JYyAuOBRV",
        "outputId": "07a214a8-d291-40f6-d103-52e786a91a6e"
      },
      "source": [
        "from google.colab import drive\n",
        "drive.mount('/content/drive')"
      ],
      "execution_count": null,
      "outputs": [
        {
          "output_type": "stream",
          "name": "stdout",
          "text": [
            "Mounted at /content/drive\n"
          ]
        }
      ]
    },
    {
      "cell_type": "code",
      "metadata": {
        "colab": {
          "base_uri": "https://localhost:8080/"
        },
        "id": "bifqZ9R559HT",
        "outputId": "faa61f36-ffe7-47c9-b8ba-04cb4960199e"
      },
      "source": [
        "from google.colab import drive \n",
        "drive.mount('/content/drive')"
      ],
      "execution_count": null,
      "outputs": [
        {
          "output_type": "stream",
          "name": "stdout",
          "text": [
            "Drive already mounted at /content/drive; to attempt to forcibly remount, call drive.mount(\"/content/drive\", force_remount=True).\n"
          ]
        }
      ]
    },
    {
      "cell_type": "code",
      "metadata": {
        "colab": {
          "base_uri": "https://localhost:8080/"
        },
        "id": "UINJfpwW6ZRR",
        "outputId": "94523e0d-3d64-4f54-a1ca-af524c0a4f7e"
      },
      "source": [
        "%cd /content/drive/My\\ Drive/"
      ],
      "execution_count": null,
      "outputs": [
        {
          "output_type": "stream",
          "name": "stdout",
          "text": [
            "/content/drive/My Drive\n"
          ]
        }
      ]
    },
    {
      "cell_type": "code",
      "metadata": {
        "colab": {
          "base_uri": "https://localhost:8080/"
        },
        "id": "PFx61GhW6bkm",
        "outputId": "b9e73af2-9b7b-4517-fbc5-a9a09dd2f0be"
      },
      "source": [
        "!pwd"
      ],
      "execution_count": null,
      "outputs": [
        {
          "output_type": "stream",
          "name": "stdout",
          "text": [
            "/content/drive/My Drive\n"
          ]
        }
      ]
    },
    {
      "cell_type": "code",
      "metadata": {
        "colab": {
          "base_uri": "https://localhost:8080/"
        },
        "id": "sMLx0Z5PKX09",
        "outputId": "1060acac-23d7-43cf-a0b6-aaf0f4329da7"
      },
      "source": [
        "start = timer()\n",
        "frameSize = (1920, 1208)\n",
        "\n",
        "out = cv2.VideoWriter(r'/cam_front_center/project.avi',cv2.VideoWriter_fourcc(*'DIVX'), 60, frameSize)\n",
        "#out = cv2.VideoWriter(r'C:\\Users\\priya\\OneDrive\\Desktop\\output_video_HFYU.mp4',cv2.VideoWriter_fourcc(*'HFYU'), 60, frameSize)\n",
        "#out = cv2.VideoWriter(r'C:\\Users\\priya\\OneDrive\\Desktop\\output_video_default.avi',cv2.VideoWriter_fourcc(), 60, frameSize)\n",
        "\n",
        "for filename in glob.glob('/cam_front_center/*.png'):\n",
        "    img = cv2.imread(filename)\n",
        "    out.write(img)\n",
        "\n",
        "out.release()\n",
        "end = timer()\n",
        "print(end - start)"
      ],
      "execution_count": null,
      "outputs": [
        {
          "output_type": "stream",
          "name": "stdout",
          "text": [
            "0.17400183999995988\n"
          ]
        }
      ]
    },
    {
      "cell_type": "code",
      "metadata": {
        "id": "YP9ZNNXP4415"
      },
      "source": [
        "img_array = []\n",
        "for filename in glob.glob('/cam_front_center/*.png'):\n",
        "    img = cv2.imread(filename)\n",
        "    height, width, layers = img.shape\n",
        "    size = (width,height)\n",
        "    img_array.append(img)\n",
        "\n",
        "    out = cv2.VideoWriter('/cam_front_center/project.avi',cv2.VideoWriter_fourcc(*'DIVX'), 15,size)\n",
        "    for i in range(len(img_array)):\n",
        "      out.write(img_array[i])\n",
        "      out.release()"
      ],
      "execution_count": null,
      "outputs": []
    },
    {
      "cell_type": "code",
      "metadata": {
        "id": "x0-ybnwN48aW"
      },
      "source": [
        "# Opens the Video file\n",
        "cap= cv2.VideoCapture('/cam_front_center/project.avi')\n",
        "i=0\n",
        "while(cap.isOpened()):\n",
        "    ret, frame = cap.read()\n",
        "    if ret == False:\n",
        "        break\n",
        "    cv2.imwrite('kang'+str(i)+'.png',frame)\n",
        "    i+=1\n",
        " \n",
        "cap.release()\n",
        "cv2.destroyAllWindows()"
      ],
      "execution_count": null,
      "outputs": []
    },
    {
      "cell_type": "code",
      "metadata": {
        "id": "4cq3N2uP4_bn"
      },
      "source": [
        ""
      ],
      "execution_count": null,
      "outputs": []
    }
  ]
}